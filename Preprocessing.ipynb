{
 "cells": [
  {
   "cell_type": "markdown",
   "metadata": {},
   "source": [
    "## **IMPORT LIBRARIES**"
   ]
  },
  {
   "cell_type": "code",
   "execution_count": 1,
   "metadata": {},
   "outputs": [
    {
     "name": "stderr",
     "output_type": "stream",
     "text": [
      "2022-10-31 16:06:28.755924: I tensorflow/core/platform/cpu_feature_guard.cc:193] This TensorFlow binary is optimized with oneAPI Deep Neural Network Library (oneDNN) to use the following CPU instructions in performance-critical operations:  AVX2 AVX512F FMA\n",
      "To enable them in other operations, rebuild TensorFlow with the appropriate compiler flags.\n",
      "2022-10-31 16:06:29.279760: E tensorflow/stream_executor/cuda/cuda_blas.cc:2981] Unable to register cuBLAS factory: Attempting to register factory for plugin cuBLAS when one has already been registered\n",
      "2022-10-31 16:06:30.392572: W tensorflow/stream_executor/platform/default/dso_loader.cc:64] Could not load dynamic library 'libnvinfer.so.7'; dlerror: libnvinfer.so.7: cannot open shared object file: No such file or directory; LD_LIBRARY_PATH: /usr/local/cuda-11.6/lib64:\n",
      "2022-10-31 16:06:30.392826: W tensorflow/stream_executor/platform/default/dso_loader.cc:64] Could not load dynamic library 'libnvinfer_plugin.so.7'; dlerror: libnvinfer_plugin.so.7: cannot open shared object file: No such file or directory; LD_LIBRARY_PATH: /usr/local/cuda-11.6/lib64:\n",
      "2022-10-31 16:06:30.392841: W tensorflow/compiler/tf2tensorrt/utils/py_utils.cc:38] TF-TRT Warning: Cannot dlopen some TensorRT libraries. If you would like to use Nvidia GPU with TensorRT, please make sure the missing libraries mentioned above are installed properly.\n"
     ]
    }
   ],
   "source": [
    "import numpy as np # linear algebra\n",
    "import pandas as pd # data processing, CSV file I/O (e.g. pd.read_csv)          \n",
    "import matplotlib.pyplot as plt # visualization\n",
    "import seaborn as sns # visualization\n",
    "import math \n",
    "import warnings # Supress warnings \n",
    "warnings.filterwarnings('ignore')\n",
    "import gdown\n",
    "import tensorflow as tf\n",
    "import argparse\n",
    "import imutils\n",
    "import cv2\n",
    "import os\n",
    "# plt.rcParams.update({'font.size': 14})\n",
    "warnings.filterwarnings('ignore')\n",
    "from matplotlib import style \n",
    "import datetime as dt\n",
    "style.use(\"ggplot\")"
   ]
  },
  {
   "cell_type": "markdown",
   "metadata": {},
   "source": [
    "## **READING THE DATA**"
   ]
  },
  {
   "cell_type": "code",
   "execution_count": 2,
   "metadata": {},
   "outputs": [],
   "source": [
    "# To download the test drive data  from the google drive\n",
    "# url = \"https://drive.google.com/drive/folders/16htJCKfYkvl1AbcUx7OTVwKVyH16CxHv?usp=sharing\"\n",
    "# gdown.download_folder(url, quiet=True, use_cookies=False)"
   ]
  },
  {
   "cell_type": "code",
   "execution_count": 3,
   "metadata": {},
   "outputs": [],
   "source": [
    "# load test drive data to do preprocessing on it \n",
    "test_drive_df=pd.read_excel('/home/ahmed/queens_project/final_project/data/DEBI Dataset (1).xlsx') "
   ]
  },
  {
   "cell_type": "code",
   "execution_count": 4,
   "metadata": {},
   "outputs": [
    {
     "data": {
      "text/html": [
       "<div>\n",
       "<style scoped>\n",
       "    .dataframe tbody tr th:only-of-type {\n",
       "        vertical-align: middle;\n",
       "    }\n",
       "\n",
       "    .dataframe tbody tr th {\n",
       "        vertical-align: top;\n",
       "    }\n",
       "\n",
       "    .dataframe thead th {\n",
       "        text-align: right;\n",
       "    }\n",
       "</style>\n",
       "<table border=\"1\" class=\"dataframe\">\n",
       "  <thead>\n",
       "    <tr style=\"text-align: right;\">\n",
       "      <th></th>\n",
       "      <th>All-Latitude</th>\n",
       "      <th>All-Longitude</th>\n",
       "      <th>All-ServingCellRSRP(dBm)[1]</th>\n",
       "      <th>All-ServingCellRSRQ(dB)[1]</th>\n",
       "      <th>All-ServingCellRSSI(dBm)[1]</th>\n",
       "      <th>serving Lat</th>\n",
       "      <th>serving Long</th>\n",
       "      <th>distance</th>\n",
       "    </tr>\n",
       "  </thead>\n",
       "  <tbody>\n",
       "    <tr>\n",
       "      <th>0</th>\n",
       "      <td>30.01471</td>\n",
       "      <td>31.45804</td>\n",
       "      <td>-66.5625</td>\n",
       "      <td>-9.7500</td>\n",
       "      <td>-39.8125</td>\n",
       "      <td>30.010772</td>\n",
       "      <td>31.456667</td>\n",
       "      <td>0.456179</td>\n",
       "    </tr>\n",
       "    <tr>\n",
       "      <th>1</th>\n",
       "      <td>30.01472</td>\n",
       "      <td>31.45804</td>\n",
       "      <td>-66.5625</td>\n",
       "      <td>-9.7500</td>\n",
       "      <td>-39.8125</td>\n",
       "      <td>30.010772</td>\n",
       "      <td>31.456667</td>\n",
       "      <td>0.457239</td>\n",
       "    </tr>\n",
       "    <tr>\n",
       "      <th>2</th>\n",
       "      <td>30.01472</td>\n",
       "      <td>31.45805</td>\n",
       "      <td>-66.5625</td>\n",
       "      <td>-9.7500</td>\n",
       "      <td>-39.8125</td>\n",
       "      <td>30.010772</td>\n",
       "      <td>31.456667</td>\n",
       "      <td>0.457520</td>\n",
       "    </tr>\n",
       "    <tr>\n",
       "      <th>3</th>\n",
       "      <td>30.01472</td>\n",
       "      <td>31.45806</td>\n",
       "      <td>-66.8125</td>\n",
       "      <td>-12.6875</td>\n",
       "      <td>-35.7500</td>\n",
       "      <td>30.010772</td>\n",
       "      <td>31.456667</td>\n",
       "      <td>0.457802</td>\n",
       "    </tr>\n",
       "    <tr>\n",
       "      <th>4</th>\n",
       "      <td>30.01472</td>\n",
       "      <td>31.45807</td>\n",
       "      <td>-67.3125</td>\n",
       "      <td>-14.1250</td>\n",
       "      <td>-36.1875</td>\n",
       "      <td>30.010772</td>\n",
       "      <td>31.456667</td>\n",
       "      <td>0.458086</td>\n",
       "    </tr>\n",
       "  </tbody>\n",
       "</table>\n",
       "</div>"
      ],
      "text/plain": [
       "   All-Latitude  All-Longitude  All-ServingCellRSRP(dBm)[1]  \\\n",
       "0      30.01471       31.45804                     -66.5625   \n",
       "1      30.01472       31.45804                     -66.5625   \n",
       "2      30.01472       31.45805                     -66.5625   \n",
       "3      30.01472       31.45806                     -66.8125   \n",
       "4      30.01472       31.45807                     -67.3125   \n",
       "\n",
       "   All-ServingCellRSRQ(dB)[1]  All-ServingCellRSSI(dBm)[1]  serving Lat  \\\n",
       "0                     -9.7500                     -39.8125    30.010772   \n",
       "1                     -9.7500                     -39.8125    30.010772   \n",
       "2                     -9.7500                     -39.8125    30.010772   \n",
       "3                    -12.6875                     -35.7500    30.010772   \n",
       "4                    -14.1250                     -36.1875    30.010772   \n",
       "\n",
       "   serving Long  distance  \n",
       "0     31.456667  0.456179  \n",
       "1     31.456667  0.457239  \n",
       "2     31.456667  0.457520  \n",
       "3     31.456667  0.457802  \n",
       "4     31.456667  0.458086  "
      ]
     },
     "execution_count": 4,
     "metadata": {},
     "output_type": "execute_result"
    }
   ],
   "source": [
    "# Show the head of loaded data \n",
    "test_drive_df.head()"
   ]
  },
  {
   "cell_type": "code",
   "execution_count": 5,
   "metadata": {},
   "outputs": [],
   "source": [
    "# After we read dataset description we found that these columns not needed  \n",
    "test_drive_df.drop(columns=['All-ServingCellRSRQ(dB)[1]','All-ServingCellRSSI(dBm)[1]'],inplace=True)"
   ]
  },
  {
   "cell_type": "code",
   "execution_count": 6,
   "metadata": {},
   "outputs": [],
   "source": [
    "# Change columns name \n",
    "test_drive_df.columns = ['Rec_Lat', 'Rec_Long', 'RSRP', 'serving_Lat','serving_Long','distance']  # type: ignore"
   ]
  },
  {
   "cell_type": "code",
   "execution_count": 7,
   "metadata": {},
   "outputs": [
    {
     "data": {
      "text/html": [
       "<div>\n",
       "<style scoped>\n",
       "    .dataframe tbody tr th:only-of-type {\n",
       "        vertical-align: middle;\n",
       "    }\n",
       "\n",
       "    .dataframe tbody tr th {\n",
       "        vertical-align: top;\n",
       "    }\n",
       "\n",
       "    .dataframe thead th {\n",
       "        text-align: right;\n",
       "    }\n",
       "</style>\n",
       "<table border=\"1\" class=\"dataframe\">\n",
       "  <thead>\n",
       "    <tr style=\"text-align: right;\">\n",
       "      <th></th>\n",
       "      <th>Rec_Lat</th>\n",
       "      <th>Rec_Long</th>\n",
       "      <th>RSRP</th>\n",
       "      <th>serving_Lat</th>\n",
       "      <th>serving_Long</th>\n",
       "      <th>distance</th>\n",
       "    </tr>\n",
       "  </thead>\n",
       "  <tbody>\n",
       "    <tr>\n",
       "      <th>0</th>\n",
       "      <td>30.01471</td>\n",
       "      <td>31.45804</td>\n",
       "      <td>-66.5625</td>\n",
       "      <td>30.010772</td>\n",
       "      <td>31.456667</td>\n",
       "      <td>0.456179</td>\n",
       "    </tr>\n",
       "    <tr>\n",
       "      <th>1</th>\n",
       "      <td>30.01472</td>\n",
       "      <td>31.45804</td>\n",
       "      <td>-66.5625</td>\n",
       "      <td>30.010772</td>\n",
       "      <td>31.456667</td>\n",
       "      <td>0.457239</td>\n",
       "    </tr>\n",
       "    <tr>\n",
       "      <th>2</th>\n",
       "      <td>30.01472</td>\n",
       "      <td>31.45805</td>\n",
       "      <td>-66.5625</td>\n",
       "      <td>30.010772</td>\n",
       "      <td>31.456667</td>\n",
       "      <td>0.457520</td>\n",
       "    </tr>\n",
       "    <tr>\n",
       "      <th>3</th>\n",
       "      <td>30.01472</td>\n",
       "      <td>31.45806</td>\n",
       "      <td>-66.8125</td>\n",
       "      <td>30.010772</td>\n",
       "      <td>31.456667</td>\n",
       "      <td>0.457802</td>\n",
       "    </tr>\n",
       "    <tr>\n",
       "      <th>4</th>\n",
       "      <td>30.01472</td>\n",
       "      <td>31.45807</td>\n",
       "      <td>-67.3125</td>\n",
       "      <td>30.010772</td>\n",
       "      <td>31.456667</td>\n",
       "      <td>0.458086</td>\n",
       "    </tr>\n",
       "  </tbody>\n",
       "</table>\n",
       "</div>"
      ],
      "text/plain": [
       "    Rec_Lat  Rec_Long     RSRP  serving_Lat  serving_Long  distance\n",
       "0  30.01471  31.45804 -66.5625    30.010772     31.456667  0.456179\n",
       "1  30.01472  31.45804 -66.5625    30.010772     31.456667  0.457239\n",
       "2  30.01472  31.45805 -66.5625    30.010772     31.456667  0.457520\n",
       "3  30.01472  31.45806 -66.8125    30.010772     31.456667  0.457802\n",
       "4  30.01472  31.45807 -67.3125    30.010772     31.456667  0.458086"
      ]
     },
     "execution_count": 7,
     "metadata": {},
     "output_type": "execute_result"
    }
   ],
   "source": [
    "# Show the head of the loaded data \n",
    "test_drive_df.head()"
   ]
  },
  {
   "cell_type": "markdown",
   "metadata": {},
   "source": [
    "## **EDA**"
   ]
  },
  {
   "cell_type": "code",
   "execution_count": 8,
   "metadata": {},
   "outputs": [
    {
     "data": {
      "text/html": [
       "<div>\n",
       "<style scoped>\n",
       "    .dataframe tbody tr th:only-of-type {\n",
       "        vertical-align: middle;\n",
       "    }\n",
       "\n",
       "    .dataframe tbody tr th {\n",
       "        vertical-align: top;\n",
       "    }\n",
       "\n",
       "    .dataframe thead th {\n",
       "        text-align: right;\n",
       "    }\n",
       "</style>\n",
       "<table border=\"1\" class=\"dataframe\">\n",
       "  <thead>\n",
       "    <tr style=\"text-align: right;\">\n",
       "      <th></th>\n",
       "      <th>Rec_Lat</th>\n",
       "      <th>Rec_Long</th>\n",
       "      <th>RSRP</th>\n",
       "      <th>serving_Lat</th>\n",
       "      <th>serving_Long</th>\n",
       "      <th>distance</th>\n",
       "    </tr>\n",
       "  </thead>\n",
       "  <tbody>\n",
       "    <tr>\n",
       "      <th>count</th>\n",
       "      <td>86904.000000</td>\n",
       "      <td>86904.000000</td>\n",
       "      <td>86311.000000</td>\n",
       "      <td>86904.000000</td>\n",
       "      <td>86904.000000</td>\n",
       "      <td>86904.000000</td>\n",
       "    </tr>\n",
       "    <tr>\n",
       "      <th>mean</th>\n",
       "      <td>30.010833</td>\n",
       "      <td>31.456929</td>\n",
       "      <td>-82.199889</td>\n",
       "      <td>30.010624</td>\n",
       "      <td>31.456981</td>\n",
       "      <td>0.316782</td>\n",
       "    </tr>\n",
       "    <tr>\n",
       "      <th>std</th>\n",
       "      <td>0.007328</td>\n",
       "      <td>0.006574</td>\n",
       "      <td>9.340947</td>\n",
       "      <td>0.007623</td>\n",
       "      <td>0.006774</td>\n",
       "      <td>0.172643</td>\n",
       "    </tr>\n",
       "    <tr>\n",
       "      <th>min</th>\n",
       "      <td>29.999150</td>\n",
       "      <td>31.445830</td>\n",
       "      <td>-113.875000</td>\n",
       "      <td>29.998269</td>\n",
       "      <td>31.437775</td>\n",
       "      <td>0.002481</td>\n",
       "    </tr>\n",
       "    <tr>\n",
       "      <th>25%</th>\n",
       "      <td>30.004210</td>\n",
       "      <td>31.451570</td>\n",
       "      <td>-88.750000</td>\n",
       "      <td>30.003575</td>\n",
       "      <td>31.452244</td>\n",
       "      <td>0.192972</td>\n",
       "    </tr>\n",
       "    <tr>\n",
       "      <th>50%</th>\n",
       "      <td>30.009950</td>\n",
       "      <td>31.456660</td>\n",
       "      <td>-81.437500</td>\n",
       "      <td>30.010572</td>\n",
       "      <td>31.456667</td>\n",
       "      <td>0.292807</td>\n",
       "    </tr>\n",
       "    <tr>\n",
       "      <th>75%</th>\n",
       "      <td>30.016790</td>\n",
       "      <td>31.461430</td>\n",
       "      <td>-75.312500</td>\n",
       "      <td>30.016964</td>\n",
       "      <td>31.461689</td>\n",
       "      <td>0.401971</td>\n",
       "    </tr>\n",
       "    <tr>\n",
       "      <th>max</th>\n",
       "      <td>30.025250</td>\n",
       "      <td>31.474660</td>\n",
       "      <td>-54.875000</td>\n",
       "      <td>30.029353</td>\n",
       "      <td>31.481494</td>\n",
       "      <td>1.618948</td>\n",
       "    </tr>\n",
       "  </tbody>\n",
       "</table>\n",
       "</div>"
      ],
      "text/plain": [
       "            Rec_Lat      Rec_Long          RSRP   serving_Lat  serving_Long  \\\n",
       "count  86904.000000  86904.000000  86311.000000  86904.000000  86904.000000   \n",
       "mean      30.010833     31.456929    -82.199889     30.010624     31.456981   \n",
       "std        0.007328      0.006574      9.340947      0.007623      0.006774   \n",
       "min       29.999150     31.445830   -113.875000     29.998269     31.437775   \n",
       "25%       30.004210     31.451570    -88.750000     30.003575     31.452244   \n",
       "50%       30.009950     31.456660    -81.437500     30.010572     31.456667   \n",
       "75%       30.016790     31.461430    -75.312500     30.016964     31.461689   \n",
       "max       30.025250     31.474660    -54.875000     30.029353     31.481494   \n",
       "\n",
       "           distance  \n",
       "count  86904.000000  \n",
       "mean       0.316782  \n",
       "std        0.172643  \n",
       "min        0.002481  \n",
       "25%        0.192972  \n",
       "50%        0.292807  \n",
       "75%        0.401971  \n",
       "max        1.618948  "
      ]
     },
     "execution_count": 8,
     "metadata": {},
     "output_type": "execute_result"
    }
   ],
   "source": [
    "# Describe dataset \n",
    "test_drive_df.describe()"
   ]
  },
  {
   "cell_type": "code",
   "execution_count": 9,
   "metadata": {},
   "outputs": [
    {
     "data": {
      "text/plain": [
       "(86904, 6)"
      ]
     },
     "execution_count": 9,
     "metadata": {},
     "output_type": "execute_result"
    }
   ],
   "source": [
    "# Show dataset shape \n",
    "test_drive_df.shape"
   ]
  },
  {
   "cell_type": "code",
   "execution_count": 10,
   "metadata": {},
   "outputs": [
    {
     "data": {
      "text/plain": [
       "Rec_Lat           0\n",
       "Rec_Long          0\n",
       "RSRP            593\n",
       "serving_Lat       0\n",
       "serving_Long      0\n",
       "distance          0\n",
       "dtype: int64"
      ]
     },
     "execution_count": 10,
     "metadata": {},
     "output_type": "execute_result"
    }
   ],
   "source": [
    "# Check null values \n",
    "test_drive_df.isnull().sum()"
   ]
  },
  {
   "cell_type": "markdown",
   "metadata": {},
   "source": [
    "As we see, there are 593 missing values in the RSRP column.\n",
    "We handled that by replacing them with previous value for RSRP"
   ]
  },
  {
   "cell_type": "code",
   "execution_count": 11,
   "metadata": {},
   "outputs": [],
   "source": [
    "# make fill with previous  value for each row \n",
    "# test_drive_df.dropna(subset=['RSRP'],axis=0 , inplace=True)\n",
    "test_drive_df[\"RSRP\"].fillna( method ='ffill', inplace = True)"
   ]
  },
  {
   "cell_type": "code",
   "execution_count": 12,
   "metadata": {},
   "outputs": [
    {
     "data": {
      "text/plain": [
       "Rec_Lat         0\n",
       "Rec_Long        0\n",
       "RSRP            0\n",
       "serving_Lat     0\n",
       "serving_Long    0\n",
       "distance        0\n",
       "dtype: int64"
      ]
     },
     "execution_count": 12,
     "metadata": {},
     "output_type": "execute_result"
    }
   ],
   "source": [
    "# Check null values after we filled it \n",
    "test_drive_df.isnull().sum()"
   ]
  },
  {
   "cell_type": "code",
   "execution_count": 13,
   "metadata": {},
   "outputs": [
    {
     "name": "stdout",
     "output_type": "stream",
     "text": [
      "<class 'pandas.core.frame.DataFrame'>\n",
      "RangeIndex: 86904 entries, 0 to 86903\n",
      "Data columns (total 6 columns):\n",
      " #   Column        Non-Null Count  Dtype  \n",
      "---  ------        --------------  -----  \n",
      " 0   Rec_Lat       86904 non-null  float64\n",
      " 1   Rec_Long      86904 non-null  float64\n",
      " 2   RSRP          86904 non-null  float64\n",
      " 3   serving_Lat   86904 non-null  float64\n",
      " 4   serving_Long  86904 non-null  float64\n",
      " 5   distance      86904 non-null  float64\n",
      "dtypes: float64(6)\n",
      "memory usage: 4.0 MB\n"
     ]
    }
   ],
   "source": [
    "# Print a concise summary of a DataFrame\n",
    "test_drive_df.info()"
   ]
  },
  {
   "cell_type": "markdown",
   "metadata": {},
   "source": [
    "## **Measure Bearing angle** "
   ]
  },
  {
   "cell_type": "markdown",
   "metadata": {},
   "source": [
    "Bearing or azimuth is the horizontal angle between the direction of an object and north or another object. A bearing measured clockwise from the north direction"
   ]
  },
  {
   "cell_type": "code",
   "execution_count": 14,
   "metadata": {},
   "outputs": [],
   "source": [
    "from turfpy import measurement\n",
    "from geojson import Point, Feature"
   ]
  },
  {
   "cell_type": "code",
   "execution_count": 15,
   "metadata": {},
   "outputs": [],
   "source": [
    "# Function to measure Bearing angle \n",
    "def cal_bearing(L1,Lo1,L2,Lo2):\n",
    "    start = Feature(geometry=Point((L1,Lo1)))\n",
    "    end = Feature(geometry=Point((L2,Lo2)))\n",
    "    bearing=measurement.bearing(start,end)\n",
    "    return bearing"
   ]
  },
  {
   "cell_type": "code",
   "execution_count": 16,
   "metadata": {},
   "outputs": [],
   "source": [
    "# Run \"cal_bearing\" function on the dataset\n",
    "bearing_ang=[]\n",
    "for i in test_drive_df.index:\n",
    "   bearing_ang.append(cal_bearing(test_drive_df['Rec_Lat'][i],\n",
    "                                        test_drive_df['Rec_Long'][i],\n",
    "                                        test_drive_df['serving_Lat'][i],\n",
    "                                        test_drive_df['serving_Long'][i]))"
   ]
  },
  {
   "cell_type": "code",
   "execution_count": 17,
   "metadata": {},
   "outputs": [],
   "source": [
    "# Save bearing angle values in the dataset\n",
    "test_drive_df['Bearing_angle']= bearing_ang"
   ]
  },
  {
   "cell_type": "markdown",
   "metadata": {},
   "source": [
    "To check the value of bearing angle we use the below link"
   ]
  },
  {
   "cell_type": "markdown",
   "metadata": {},
   "source": [
    "https://www.igismap.com/map-tool/bearing-angle\n",
    "\n",
    "\n",
    "bearing angle igis maps"
   ]
  },
  {
   "cell_type": "code",
   "execution_count": 18,
   "metadata": {},
   "outputs": [
    {
     "data": {
      "text/html": [
       "<div>\n",
       "<style scoped>\n",
       "    .dataframe tbody tr th:only-of-type {\n",
       "        vertical-align: middle;\n",
       "    }\n",
       "\n",
       "    .dataframe tbody tr th {\n",
       "        vertical-align: top;\n",
       "    }\n",
       "\n",
       "    .dataframe thead th {\n",
       "        text-align: right;\n",
       "    }\n",
       "</style>\n",
       "<table border=\"1\" class=\"dataframe\">\n",
       "  <thead>\n",
       "    <tr style=\"text-align: right;\">\n",
       "      <th></th>\n",
       "      <th>Rec_Lat</th>\n",
       "      <th>Rec_Long</th>\n",
       "      <th>RSRP</th>\n",
       "      <th>serving_Lat</th>\n",
       "      <th>serving_Long</th>\n",
       "      <th>distance</th>\n",
       "      <th>Bearing_angle</th>\n",
       "    </tr>\n",
       "  </thead>\n",
       "  <tbody>\n",
       "    <tr>\n",
       "      <th>0</th>\n",
       "      <td>30.01471</td>\n",
       "      <td>31.45804</td>\n",
       "      <td>-66.5625</td>\n",
       "      <td>30.010772</td>\n",
       "      <td>31.456667</td>\n",
       "      <td>0.456179</td>\n",
       "      <td>-112.230030</td>\n",
       "    </tr>\n",
       "    <tr>\n",
       "      <th>1</th>\n",
       "      <td>30.01472</td>\n",
       "      <td>31.45804</td>\n",
       "      <td>-66.5625</td>\n",
       "      <td>30.010772</td>\n",
       "      <td>31.456667</td>\n",
       "      <td>0.457239</td>\n",
       "      <td>-112.179183</td>\n",
       "    </tr>\n",
       "    <tr>\n",
       "      <th>2</th>\n",
       "      <td>30.01472</td>\n",
       "      <td>31.45805</td>\n",
       "      <td>-66.5625</td>\n",
       "      <td>30.010772</td>\n",
       "      <td>31.456667</td>\n",
       "      <td>0.457520</td>\n",
       "      <td>-112.324916</td>\n",
       "    </tr>\n",
       "    <tr>\n",
       "      <th>3</th>\n",
       "      <td>30.01472</td>\n",
       "      <td>31.45806</td>\n",
       "      <td>-66.8125</td>\n",
       "      <td>30.010772</td>\n",
       "      <td>31.456667</td>\n",
       "      <td>0.457802</td>\n",
       "      <td>-112.470345</td>\n",
       "    </tr>\n",
       "    <tr>\n",
       "      <th>4</th>\n",
       "      <td>30.01472</td>\n",
       "      <td>31.45807</td>\n",
       "      <td>-67.3125</td>\n",
       "      <td>30.010772</td>\n",
       "      <td>31.456667</td>\n",
       "      <td>0.458086</td>\n",
       "      <td>-112.615469</td>\n",
       "    </tr>\n",
       "  </tbody>\n",
       "</table>\n",
       "</div>"
      ],
      "text/plain": [
       "    Rec_Lat  Rec_Long     RSRP  serving_Lat  serving_Long  distance  \\\n",
       "0  30.01471  31.45804 -66.5625    30.010772     31.456667  0.456179   \n",
       "1  30.01472  31.45804 -66.5625    30.010772     31.456667  0.457239   \n",
       "2  30.01472  31.45805 -66.5625    30.010772     31.456667  0.457520   \n",
       "3  30.01472  31.45806 -66.8125    30.010772     31.456667  0.457802   \n",
       "4  30.01472  31.45807 -67.3125    30.010772     31.456667  0.458086   \n",
       "\n",
       "   Bearing_angle  \n",
       "0    -112.230030  \n",
       "1    -112.179183  \n",
       "2    -112.324916  \n",
       "3    -112.470345  \n",
       "4    -112.615469  "
      ]
     },
     "execution_count": 18,
     "metadata": {},
     "output_type": "execute_result"
    }
   ],
   "source": [
    "test_drive_df.head()"
   ]
  },
  {
   "cell_type": "markdown",
   "metadata": {},
   "source": [
    "## **Measure Path Loss**"
   ]
  },
  {
   "cell_type": "markdown",
   "metadata": {},
   "source": [
    "Path Loss (PL) Path loss (or path attenuation) delineates a decline in power density of any given electromagnetic wave as it propagates through space."
   ]
  },
  {
   "cell_type": "code",
   "execution_count": 19,
   "metadata": {},
   "outputs": [],
   "source": [
    "def PL_Hata(\n",
    "    d: float, fc: float = 2100, hrx: float = 1.5, htx: float = 45):\n",
    "    \"\"\"\n",
    "    Hata path loss model, for large scale coverage\n",
    "    :fc : Carrier frequency \n",
    "    :d : Distance between Tx and Rx (in km)\n",
    "    :hrx: height of receiving antenna\n",
    "    :htx : height of transmitting antenna\n",
    "    Out: PL: pathloss (dB)\n",
    "    \"\"\"\n",
    "    #caculate a(hre) is the correction factor for receiver antenna heights\n",
    "    C_rx = 0.8 + (1.1 * np.log10(fc) - 0.7) * hrx - 1.56 * np.log10(fc)\n",
    "    #caculate path loss using Okumura-Hata Model\n",
    "    PL = ( 69.55 + 26.16 * np.log10(fc) - 13.82 * np.log10(htx) - C_rx + (44.9 - 6.55 * np.log10(htx)) * np.log10(d) )\n",
    "    return PL"
   ]
  },
  {
   "cell_type": "code",
   "execution_count": 20,
   "metadata": {},
   "outputs": [],
   "source": [
    "# run \"PL_Hata\" function \n",
    "Path_loss=[]\n",
    "for i in test_drive_df.index:\n",
    "   Path_loss.append(PL_Hata(test_drive_df['distance'][i]))  # type: ignore"
   ]
  },
  {
   "cell_type": "markdown",
   "metadata": {},
   "source": [
    "https://www.rfwireless-world.com/calculators/Hata-model-path-loss-calculator.html\n",
    "\n",
    "\n",
    "Hata model path loss calculator | Hata model path loss formula"
   ]
  },
  {
   "cell_type": "code",
   "execution_count": 21,
   "metadata": {},
   "outputs": [],
   "source": [
    "# Save Path_loss in the dataset\n",
    "test_drive_df['PL']= Path_loss"
   ]
  },
  {
   "cell_type": "code",
   "execution_count": 22,
   "metadata": {},
   "outputs": [
    {
     "data": {
      "text/html": [
       "<div>\n",
       "<style scoped>\n",
       "    .dataframe tbody tr th:only-of-type {\n",
       "        vertical-align: middle;\n",
       "    }\n",
       "\n",
       "    .dataframe tbody tr th {\n",
       "        vertical-align: top;\n",
       "    }\n",
       "\n",
       "    .dataframe thead th {\n",
       "        text-align: right;\n",
       "    }\n",
       "</style>\n",
       "<table border=\"1\" class=\"dataframe\">\n",
       "  <thead>\n",
       "    <tr style=\"text-align: right;\">\n",
       "      <th></th>\n",
       "      <th>Rec_Lat</th>\n",
       "      <th>Rec_Long</th>\n",
       "      <th>RSRP</th>\n",
       "      <th>serving_Lat</th>\n",
       "      <th>serving_Long</th>\n",
       "      <th>distance</th>\n",
       "      <th>Bearing_angle</th>\n",
       "      <th>PL</th>\n",
       "    </tr>\n",
       "  </thead>\n",
       "  <tbody>\n",
       "    <tr>\n",
       "      <th>0</th>\n",
       "      <td>30.01471</td>\n",
       "      <td>31.45804</td>\n",
       "      <td>-66.5625</td>\n",
       "      <td>30.010772</td>\n",
       "      <td>31.456667</td>\n",
       "      <td>0.456179</td>\n",
       "      <td>-112.230030</td>\n",
       "      <td>121.949087</td>\n",
       "    </tr>\n",
       "    <tr>\n",
       "      <th>1</th>\n",
       "      <td>30.01472</td>\n",
       "      <td>31.45804</td>\n",
       "      <td>-66.5625</td>\n",
       "      <td>30.010772</td>\n",
       "      <td>31.456667</td>\n",
       "      <td>0.457239</td>\n",
       "      <td>-112.179183</td>\n",
       "      <td>121.983458</td>\n",
       "    </tr>\n",
       "    <tr>\n",
       "      <th>2</th>\n",
       "      <td>30.01472</td>\n",
       "      <td>31.45805</td>\n",
       "      <td>-66.5625</td>\n",
       "      <td>30.010772</td>\n",
       "      <td>31.456667</td>\n",
       "      <td>0.457520</td>\n",
       "      <td>-112.324916</td>\n",
       "      <td>121.992532</td>\n",
       "    </tr>\n",
       "    <tr>\n",
       "      <th>3</th>\n",
       "      <td>30.01472</td>\n",
       "      <td>31.45806</td>\n",
       "      <td>-66.8125</td>\n",
       "      <td>30.010772</td>\n",
       "      <td>31.456667</td>\n",
       "      <td>0.457802</td>\n",
       "      <td>-112.470345</td>\n",
       "      <td>122.001660</td>\n",
       "    </tr>\n",
       "    <tr>\n",
       "      <th>4</th>\n",
       "      <td>30.01472</td>\n",
       "      <td>31.45807</td>\n",
       "      <td>-67.3125</td>\n",
       "      <td>30.010772</td>\n",
       "      <td>31.456667</td>\n",
       "      <td>0.458086</td>\n",
       "      <td>-112.615469</td>\n",
       "      <td>122.010843</td>\n",
       "    </tr>\n",
       "    <tr>\n",
       "      <th>...</th>\n",
       "      <td>...</td>\n",
       "      <td>...</td>\n",
       "      <td>...</td>\n",
       "      <td>...</td>\n",
       "      <td>...</td>\n",
       "      <td>...</td>\n",
       "      <td>...</td>\n",
       "      <td>...</td>\n",
       "    </tr>\n",
       "    <tr>\n",
       "      <th>86899</th>\n",
       "      <td>30.00200</td>\n",
       "      <td>31.46485</td>\n",
       "      <td>-76.8750</td>\n",
       "      <td>30.002019</td>\n",
       "      <td>31.461689</td>\n",
       "      <td>0.305004</td>\n",
       "      <td>179.706241</td>\n",
       "      <td>115.992408</td>\n",
       "    </tr>\n",
       "    <tr>\n",
       "      <th>86900</th>\n",
       "      <td>30.00200</td>\n",
       "      <td>31.46486</td>\n",
       "      <td>-76.8750</td>\n",
       "      <td>30.002019</td>\n",
       "      <td>31.461689</td>\n",
       "      <td>0.305969</td>\n",
       "      <td>179.707167</td>\n",
       "      <td>116.039142</td>\n",
       "    </tr>\n",
       "    <tr>\n",
       "      <th>86901</th>\n",
       "      <td>30.00200</td>\n",
       "      <td>31.46487</td>\n",
       "      <td>-76.6875</td>\n",
       "      <td>30.002019</td>\n",
       "      <td>31.461689</td>\n",
       "      <td>0.306934</td>\n",
       "      <td>179.708088</td>\n",
       "      <td>116.085728</td>\n",
       "    </tr>\n",
       "    <tr>\n",
       "      <th>86902</th>\n",
       "      <td>30.00200</td>\n",
       "      <td>31.46488</td>\n",
       "      <td>-79.3750</td>\n",
       "      <td>30.002019</td>\n",
       "      <td>31.461689</td>\n",
       "      <td>0.307899</td>\n",
       "      <td>179.709002</td>\n",
       "      <td>116.132169</td>\n",
       "    </tr>\n",
       "    <tr>\n",
       "      <th>86903</th>\n",
       "      <td>30.00200</td>\n",
       "      <td>31.46489</td>\n",
       "      <td>-77.4375</td>\n",
       "      <td>30.002019</td>\n",
       "      <td>31.461689</td>\n",
       "      <td>0.308863</td>\n",
       "      <td>179.709912</td>\n",
       "      <td>116.178464</td>\n",
       "    </tr>\n",
       "  </tbody>\n",
       "</table>\n",
       "<p>86904 rows × 8 columns</p>\n",
       "</div>"
      ],
      "text/plain": [
       "        Rec_Lat  Rec_Long     RSRP  serving_Lat  serving_Long  distance  \\\n",
       "0      30.01471  31.45804 -66.5625    30.010772     31.456667  0.456179   \n",
       "1      30.01472  31.45804 -66.5625    30.010772     31.456667  0.457239   \n",
       "2      30.01472  31.45805 -66.5625    30.010772     31.456667  0.457520   \n",
       "3      30.01472  31.45806 -66.8125    30.010772     31.456667  0.457802   \n",
       "4      30.01472  31.45807 -67.3125    30.010772     31.456667  0.458086   \n",
       "...         ...       ...      ...          ...           ...       ...   \n",
       "86899  30.00200  31.46485 -76.8750    30.002019     31.461689  0.305004   \n",
       "86900  30.00200  31.46486 -76.8750    30.002019     31.461689  0.305969   \n",
       "86901  30.00200  31.46487 -76.6875    30.002019     31.461689  0.306934   \n",
       "86902  30.00200  31.46488 -79.3750    30.002019     31.461689  0.307899   \n",
       "86903  30.00200  31.46489 -77.4375    30.002019     31.461689  0.308863   \n",
       "\n",
       "       Bearing_angle          PL  \n",
       "0        -112.230030  121.949087  \n",
       "1        -112.179183  121.983458  \n",
       "2        -112.324916  121.992532  \n",
       "3        -112.470345  122.001660  \n",
       "4        -112.615469  122.010843  \n",
       "...              ...         ...  \n",
       "86899     179.706241  115.992408  \n",
       "86900     179.707167  116.039142  \n",
       "86901     179.708088  116.085728  \n",
       "86902     179.709002  116.132169  \n",
       "86903     179.709912  116.178464  \n",
       "\n",
       "[86904 rows x 8 columns]"
      ]
     },
     "execution_count": 22,
     "metadata": {},
     "output_type": "execute_result"
    }
   ],
   "source": [
    "test_drive_df"
   ]
  },
  {
   "cell_type": "markdown",
   "metadata": {},
   "source": [
    "# **Data Visualization**"
   ]
  },
  {
   "cell_type": "code",
   "execution_count": 34,
   "metadata": {},
   "outputs": [
    {
     "data": {
      "text/plain": [
       "<AxesSubplot: >"
      ]
     },
     "execution_count": 34,
     "metadata": {},
     "output_type": "execute_result"
    },
    {
     "data": {
      "image/png": "[encoded data removed]",
      "text/plain": [
       "<Figure size 1000x500 with 1 Axes>"
      ]
     },
     "metadata": {},
     "output_type": "display_data"
    }
   ],
   "source": [
    "#Outliars\n",
    "plt.figure(figsize = (10, 5)) \n",
    "test_drive_df.boxplot()"
   ]
  },
  {
   "cell_type": "code",
   "execution_count": 35,
   "metadata": {},
   "outputs": [
    {
     "data": {
      "image/png": "[encoded data removed]",
      "text/plain": [
       "<Figure size 1500x800 with 1 Axes>"
      ]
     },
     "metadata": {},
     "output_type": "display_data"
    }
   ],
   "source": [
    "f, ax = plt.subplots(figsize=(15, 8))\n",
    "ax = sns.countplot(x=\"RSRP\", data=test_drive_df, palette=\"Set1\")\n",
    "plt.show()"
   ]
  },
  {
   "cell_type": "code",
   "execution_count": 36,
   "metadata": {},
   "outputs": [
    {
     "data": {
      "text/plain": [
       "Text(0, 0.5, 'RSRP')"
      ]
     },
     "execution_count": 36,
     "metadata": {},
     "output_type": "execute_result"
    },
    {
     "data": {
      "image/png": "[encoded data removed]",
      "text/plain": [
       "<Figure size 1600x1200 with 6 Axes>"
      ]
     },
     "metadata": {},
     "output_type": "display_data"
    }
   ],
   "source": [
    "# draw boxplots to visualize outliers\n",
    "\n",
    "plt.figure(figsize=(16,12))\n",
    "\n",
    "\n",
    "plt.subplot(3, 3, 1)\n",
    "fig = test_drive_df.boxplot(column='Rec_Lat')\n",
    "fig.set_title('Rec_Lat')\n",
    "fig.set_ylabel('RSRP')\n",
    "\n",
    "\n",
    "plt.subplot(3, 3, 2)\n",
    "fig = test_drive_df.boxplot(column='Rec_Long')\n",
    "fig.set_title('Rec_Long')\n",
    "fig.set_ylabel('RSRP')\n",
    "\n",
    "\n",
    "plt.subplot(3, 3, 3)\n",
    "fig =test_drive_df.boxplot(column='serving_Lat')\n",
    "fig.set_title('serving_Lat')\n",
    "fig.set_ylabel('RSRP')\n",
    "\n",
    "\n",
    "plt.subplot(3, 3, 4)\n",
    "fig = test_drive_df.boxplot(column='serving_Long')\n",
    "fig.set_title('serving_Long')\n",
    "fig.set_ylabel('RSRP')\n",
    "\n",
    "\n",
    "plt.subplot(3,3,5)\n",
    "fig = test_drive_df.boxplot(column='PL')\n",
    "fig.set_title('PL')\n",
    "fig.set_ylabel('RSRP')\n",
    "\n",
    "\n",
    "plt.subplot(3, 3, 6)\n",
    "fig = test_drive_df.boxplot(column='distance')\n",
    "fig.set_title('distance')\n",
    "fig.set_ylabel('RSRP')"
   ]
  },
  {
   "cell_type": "code",
   "execution_count": 37,
   "metadata": {},
   "outputs": [
    {
     "data": {
      "text/plain": [
       "Text(0, 0.5, 'RSRP')"
      ]
     },
     "execution_count": 37,
     "metadata": {},
     "output_type": "execute_result"
    },
    {
     "data": {
      "image/png": "[encoded data removed]",
      "text/plain": [
       "<Figure size 1600x1200 with 6 Axes>"
      ]
     },
     "metadata": {},
     "output_type": "display_data"
    }
   ],
   "source": [
    "# plot histogram to check distribution\n",
    "plt.figure(figsize=(16,12))\n",
    "\n",
    "\n",
    "plt.subplot(3, 3, 1)\n",
    "fig = test_drive_df.Rec_Lat.hist(bins=10)\n",
    "fig.set_title('Rec_Lat')\n",
    "fig.set_ylabel('RSRP')\n",
    "\n",
    "\n",
    "plt.subplot(3, 3, 2)\n",
    "fig = test_drive_df.Rec_Long.hist(bins=10)\n",
    "fig.set_title('Rec_Long')\n",
    "fig.set_ylabel('RSRP')\n",
    "\n",
    "\n",
    "plt.subplot(3, 3, 3)\n",
    "fig =test_drive_df.serving_Lat.hist(bins=10)\n",
    "fig.set_title('serving_Lat')\n",
    "fig.set_ylabel('RSRP')\n",
    "\n",
    "\n",
    "plt.subplot(3, 3, 4)\n",
    "fig = test_drive_df.serving_Long.hist(bins=10)\n",
    "fig.set_title('serving_Long')\n",
    "fig.set_ylabel('RSRP')\n",
    "\n",
    "\n",
    "plt.subplot(3,3,5)\n",
    "fig = test_drive_df.PL.hist(bins=10)\n",
    "fig.set_title('PL')\n",
    "fig.set_ylabel('RSRP')\n",
    "\n",
    "\n",
    "plt.subplot(3, 3, 6)\n",
    "fig = test_drive_df.distance.hist(bins=10)\n",
    "fig.set_title('distance')\n",
    "fig.set_ylabel('RSRP')"
   ]
  },
  {
   "cell_type": "markdown",
   "metadata": {},
   "source": [
    "# **Data Augmentation**"
   ]
  },
  {
   "cell_type": "markdown",
   "metadata": {},
   "source": [
    "We made data augmentation to add more rows.\n",
    "\n",
    "We use Rec_Lat and Rec_Long and add 0.00005 on the receiver location  and use the same images to the new rows.\n",
    "\n",
    "So, based on the change in receiver location the distance between transmitter and receiver, path loss and bearing angle will change  "
   ]
  },
  {
   "cell_type": "code",
   "execution_count": 25,
   "metadata": {},
   "outputs": [],
   "source": [
    "Rec_Lat=test_drive_df[\"Rec_Lat\"]\n",
    "Rec_Long=test_drive_df[\"Rec_Long\"]"
   ]
  },
  {
   "cell_type": "code",
   "execution_count": 26,
   "metadata": {},
   "outputs": [],
   "source": [
    "# Measure distance between rec location and transmitter  \n",
    "def cal_distance(L1,Lo1,L2,Lo2):\n",
    "    start = Feature(geometry=Point((L1,Lo1)))\n",
    "    end = Feature(geometry=Point((L2,Lo2)))\n",
    "    distance=measurement.distance(start,end)\n",
    "    return distance"
   ]
  },
  {
   "cell_type": "code",
   "execution_count": 27,
   "metadata": {},
   "outputs": [],
   "source": [
    "# Save the new data in df \n",
    "df= pd.DataFrame()\n",
    "df[\"Rec_Lat\"] = Rec_Lat+0.00005\n",
    "df[\"Rec_Long\"]= Rec_Long+0.00005\n",
    "df[\"RSRP\"] = test_drive_df[\"RSRP\"]\n",
    "df[\"serving_Lat\"]=test_drive_df[\"serving_Lat\"]\n",
    "df[\"serving_Long\"]= test_drive_df[\"serving_Long\"]"
   ]
  },
  {
   "cell_type": "code",
   "execution_count": 28,
   "metadata": {},
   "outputs": [],
   "source": [
    "# Measure bearing angle to new data   \n",
    "bearing=[]\n",
    "for i in df.index:\n",
    "   bearing.append(cal_bearing(df['Rec_Lat'][i],\n",
    "                                        df['Rec_Long'][i],\n",
    "                                        df['serving_Lat'][i],\n",
    "                                        df['serving_Long'][i]))"
   ]
  },
  {
   "cell_type": "code",
   "execution_count": 29,
   "metadata": {},
   "outputs": [],
   "source": [
    "# Run \"cal_distance\" function \n",
    "distance=[]\n",
    "for i in df.index:\n",
    "   distance.append(cal_distance(df['Rec_Lat'][i],\n",
    "                                        df['Rec_Long'][i],\n",
    "                                        df['serving_Lat'][i],\n",
    "                                        df['serving_Long'][i]))"
   ]
  },
  {
   "cell_type": "code",
   "execution_count": 30,
   "metadata": {},
   "outputs": [],
   "source": [
    "# Save the distance and bearing anlge in dataframe \n",
    "df[\"distance\"] = distance\n",
    "df[\"Bearing_angle\"] = bearing"
   ]
  },
  {
   "cell_type": "code",
   "execution_count": 31,
   "metadata": {},
   "outputs": [],
   "source": [
    "# Run \"PL_Hata\" function \n",
    "Path_lo=[]\n",
    "for i in df.index:\n",
    "   Path_lo.append(PL_Hata(df['distance'][i]))  # type: ignore"
   ]
  },
  {
   "cell_type": "code",
   "execution_count": 32,
   "metadata": {},
   "outputs": [],
   "source": [
    "# Save path loss in the df\n",
    "df[\"PL\"] = Path_lo"
   ]
  },
  {
   "cell_type": "code",
   "execution_count": 33,
   "metadata": {},
   "outputs": [
    {
     "data": {
      "text/html": [
       "<div>\n",
       "<style scoped>\n",
       "    .dataframe tbody tr th:only-of-type {\n",
       "        vertical-align: middle;\n",
       "    }\n",
       "\n",
       "    .dataframe tbody tr th {\n",
       "        vertical-align: top;\n",
       "    }\n",
       "\n",
       "    .dataframe thead th {\n",
       "        text-align: right;\n",
       "    }\n",
       "</style>\n",
       "<table border=\"1\" class=\"dataframe\">\n",
       "  <thead>\n",
       "    <tr style=\"text-align: right;\">\n",
       "      <th></th>\n",
       "      <th>Rec_Lat</th>\n",
       "      <th>Rec_Long</th>\n",
       "      <th>RSRP</th>\n",
       "      <th>serving_Lat</th>\n",
       "      <th>serving_Long</th>\n",
       "      <th>distance</th>\n",
       "      <th>Bearing_angle</th>\n",
       "      <th>PL</th>\n",
       "    </tr>\n",
       "  </thead>\n",
       "  <tbody>\n",
       "    <tr>\n",
       "      <th>0</th>\n",
       "      <td>30.01476</td>\n",
       "      <td>31.45809</td>\n",
       "      <td>-66.5625</td>\n",
       "      <td>30.010772</td>\n",
       "      <td>31.456667</td>\n",
       "      <td>0.410033</td>\n",
       "      <td>-112.698437</td>\n",
       "      <td>120.371017</td>\n",
       "    </tr>\n",
       "    <tr>\n",
       "      <th>1</th>\n",
       "      <td>30.01477</td>\n",
       "      <td>31.45809</td>\n",
       "      <td>-66.5625</td>\n",
       "      <td>30.010772</td>\n",
       "      <td>31.456667</td>\n",
       "      <td>0.410908</td>\n",
       "      <td>-112.647396</td>\n",
       "      <td>120.402568</td>\n",
       "    </tr>\n",
       "    <tr>\n",
       "      <th>2</th>\n",
       "      <td>30.01477</td>\n",
       "      <td>31.45810</td>\n",
       "      <td>-66.5625</td>\n",
       "      <td>30.010772</td>\n",
       "      <td>31.456667</td>\n",
       "      <td>0.411337</td>\n",
       "      <td>-112.790338</td>\n",
       "      <td>120.418024</td>\n",
       "    </tr>\n",
       "    <tr>\n",
       "      <th>3</th>\n",
       "      <td>30.01477</td>\n",
       "      <td>31.45811</td>\n",
       "      <td>-66.8125</td>\n",
       "      <td>30.010772</td>\n",
       "      <td>31.456667</td>\n",
       "      <td>0.411769</td>\n",
       "      <td>-112.932982</td>\n",
       "      <td>120.433557</td>\n",
       "    </tr>\n",
       "    <tr>\n",
       "      <th>4</th>\n",
       "      <td>30.01477</td>\n",
       "      <td>31.45812</td>\n",
       "      <td>-67.3125</td>\n",
       "      <td>30.010772</td>\n",
       "      <td>31.456667</td>\n",
       "      <td>0.412204</td>\n",
       "      <td>-113.075326</td>\n",
       "      <td>120.449164</td>\n",
       "    </tr>\n",
       "    <tr>\n",
       "      <th>...</th>\n",
       "      <td>...</td>\n",
       "      <td>...</td>\n",
       "      <td>...</td>\n",
       "      <td>...</td>\n",
       "      <td>...</td>\n",
       "      <td>...</td>\n",
       "      <td>...</td>\n",
       "      <td>...</td>\n",
       "    </tr>\n",
       "    <tr>\n",
       "      <th>86899</th>\n",
       "      <td>30.00205</td>\n",
       "      <td>31.46490</td>\n",
       "      <td>-76.8750</td>\n",
       "      <td>30.002019</td>\n",
       "      <td>31.461689</td>\n",
       "      <td>0.357060</td>\n",
       "      <td>-179.528178</td>\n",
       "      <td>118.324080</td>\n",
       "    </tr>\n",
       "    <tr>\n",
       "      <th>86900</th>\n",
       "      <td>30.00205</td>\n",
       "      <td>31.46491</td>\n",
       "      <td>-76.8750</td>\n",
       "      <td>30.002019</td>\n",
       "      <td>31.461689</td>\n",
       "      <td>0.358171</td>\n",
       "      <td>-179.529643</td>\n",
       "      <td>118.370088</td>\n",
       "    </tr>\n",
       "    <tr>\n",
       "      <th>86901</th>\n",
       "      <td>30.00205</td>\n",
       "      <td>31.46492</td>\n",
       "      <td>-76.6875</td>\n",
       "      <td>30.002019</td>\n",
       "      <td>31.461689</td>\n",
       "      <td>0.359283</td>\n",
       "      <td>-179.531099</td>\n",
       "      <td>118.415953</td>\n",
       "    </tr>\n",
       "    <tr>\n",
       "      <th>86902</th>\n",
       "      <td>30.00205</td>\n",
       "      <td>31.46493</td>\n",
       "      <td>-79.3750</td>\n",
       "      <td>30.002019</td>\n",
       "      <td>31.461689</td>\n",
       "      <td>0.360395</td>\n",
       "      <td>-179.532546</td>\n",
       "      <td>118.461676</td>\n",
       "    </tr>\n",
       "    <tr>\n",
       "      <th>86903</th>\n",
       "      <td>30.00205</td>\n",
       "      <td>31.46494</td>\n",
       "      <td>-77.4375</td>\n",
       "      <td>30.002019</td>\n",
       "      <td>31.461689</td>\n",
       "      <td>0.361507</td>\n",
       "      <td>-179.533983</td>\n",
       "      <td>118.507259</td>\n",
       "    </tr>\n",
       "  </tbody>\n",
       "</table>\n",
       "<p>86904 rows × 8 columns</p>\n",
       "</div>"
      ],
      "text/plain": [
       "        Rec_Lat  Rec_Long     RSRP  serving_Lat  serving_Long  distance  \\\n",
       "0      30.01476  31.45809 -66.5625    30.010772     31.456667  0.410033   \n",
       "1      30.01477  31.45809 -66.5625    30.010772     31.456667  0.410908   \n",
       "2      30.01477  31.45810 -66.5625    30.010772     31.456667  0.411337   \n",
       "3      30.01477  31.45811 -66.8125    30.010772     31.456667  0.411769   \n",
       "4      30.01477  31.45812 -67.3125    30.010772     31.456667  0.412204   \n",
       "...         ...       ...      ...          ...           ...       ...   \n",
       "86899  30.00205  31.46490 -76.8750    30.002019     31.461689  0.357060   \n",
       "86900  30.00205  31.46491 -76.8750    30.002019     31.461689  0.358171   \n",
       "86901  30.00205  31.46492 -76.6875    30.002019     31.461689  0.359283   \n",
       "86902  30.00205  31.46493 -79.3750    30.002019     31.461689  0.360395   \n",
       "86903  30.00205  31.46494 -77.4375    30.002019     31.461689  0.361507   \n",
       "\n",
       "       Bearing_angle          PL  \n",
       "0        -112.698437  120.371017  \n",
       "1        -112.647396  120.402568  \n",
       "2        -112.790338  120.418024  \n",
       "3        -112.932982  120.433557  \n",
       "4        -113.075326  120.449164  \n",
       "...              ...         ...  \n",
       "86899    -179.528178  118.324080  \n",
       "86900    -179.529643  118.370088  \n",
       "86901    -179.531099  118.415953  \n",
       "86902    -179.532546  118.461676  \n",
       "86903    -179.533983  118.507259  \n",
       "\n",
       "[86904 rows x 8 columns]"
      ]
     },
     "execution_count": 33,
     "metadata": {},
     "output_type": "execute_result"
    }
   ],
   "source": [
    "df"
   ]
  },
  {
   "cell_type": "code",
   "execution_count": 56,
   "metadata": {},
   "outputs": [],
   "source": [
    "#  Concatenate the test_drive_df and the new dataframe\n",
    "test_drive= pd.concat([test_drive_df, df], axis=0)"
   ]
  },
  {
   "cell_type": "code",
   "execution_count": 57,
   "metadata": {},
   "outputs": [
    {
     "data": {
      "text/plain": [
       "Rec_Lat          0\n",
       "Rec_Long         0\n",
       "RSRP             0\n",
       "serving_Lat      0\n",
       "serving_Long     0\n",
       "distance         0\n",
       "Bearing_angle    0\n",
       "PL               0\n",
       "dtype: int64"
      ]
     },
     "execution_count": 57,
     "metadata": {},
     "output_type": "execute_result"
    }
   ],
   "source": [
    "# Check the null values in the final dataset after we make preprocessing on it  \n",
    "test_drive.isnull().sum()"
   ]
  },
  {
   "cell_type": "code",
   "execution_count": 60,
   "metadata": {},
   "outputs": [],
   "source": [
    "# saving the dataframe\n",
    "test_drive=test_drive.reset_index(drop=True)\n",
    "# this file that we will use it to train our models \n",
    "test_drive.to_csv('ts_drive.csv' , index=0)"
   ]
  }
 ],
 "metadata": {
  "kernelspec": {
   "display_name": "base",
   "language": "python",
   "name": "python3"
  },
  "language_info": {
   "codemirror_mode": {
    "name": "ipython",
    "version": 3
   },
   "file_extension": ".py",
   "mimetype": "text/x-python",
   "name": "python",
   "nbconvert_exporter": "python",
   "pygments_lexer": "ipython3",
   "version": "3.7.4 (default, Aug 13 2019, 20:35:49) \n[GCC 7.3.0]"
  },
  "orig_nbformat": 4,
  "vscode": {
   "interpreter": {
    "hash": "039c4ead956e547bca973f66ec7fc5c2c76b9cbf1c35078d979bc88144c60809"
   }
  }
 },
 "nbformat": 4,
 "nbformat_minor": 2
}
