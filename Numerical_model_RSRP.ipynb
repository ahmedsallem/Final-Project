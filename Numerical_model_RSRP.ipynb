{
  "cells": [
    {
      "cell_type": "markdown",
      "metadata": {
        "id": "XUW3b5LzyAfS"
      },
      "source": [
        "## **IMPORT LIBRARIES**"
      ]
    },
    {
      "cell_type": "code",
      "execution_count": 7,
      "metadata": {
        "id": "2DhPVELCX3yi"
      },
      "outputs": [],
      "source": [
        "import numpy as np # linear algebra\n",
        "import pandas as pd # data processing, CSV file I/O (e.g. pd.read_csv)          \n",
        "import matplotlib.pyplot as plt # visualization\n",
        "# plt.rcParams.update({'font.size': 14})\n",
        "import seaborn as sns # visualization\n",
        "import math \n",
        "import warnings # Supress warnings \n",
        "warnings.filterwarnings('ignore')\n",
        "from keras.models import Sequential \n",
        "from keras.layers import Activation, Dense , Concatenate,BatchNormalization  "
      ]
    },
    {
      "cell_type": "code",
      "execution_count": 8,
      "metadata": {
        "id": "rq4rekEHirzk"
      },
      "outputs": [],
      "source": [
        "import keras\n",
        "from tensorflow.python.keras.models import Input\n",
        "from keras.layers import Dense, Dropout, Flatten\n",
        "from keras.layers import Conv2D, MaxPooling2D\n",
        "from keras.layers import ELU, PReLU, LeakyReLU\n",
        "import tensorflow \n",
        "import tensorflow as tf\n",
        "from tensorflow import keras\n",
        "import keras.layers as layers\n",
        "from tensorflow import keras\n",
        "from tensorflow.keras import Model\n",
        "from tensorflow.keras.utils import plot_model\n",
        "from tensorflow.keras.layers import Input, Dense, BatchNormalization\n",
        "from IPython.core.display import Image"
      ]
    },
    {
      "cell_type": "code",
      "execution_count": 9,
      "metadata": {
        "id": "UmY5c_Prk8wf"
      },
      "outputs": [],
      "source": [
        "import matplotlib.pyplot as plt\n",
        "import seaborn as sns\n",
        "import keras\n",
        "from keras.models import Sequential\n",
        "from keras.layers import Dense, Conv2D , MaxPool2D , Flatten , Dropout \n",
        "from keras.preprocessing.image import ImageDataGenerator\n",
        "from tensorflow.keras.optimizers import Adam\n",
        "from sklearn.metrics import classification_report,confusion_matrix\n",
        "import tensorflow as tf\n",
        "import argparse\n",
        "import imutils\n",
        "import cv2\n",
        "import os\n",
        "import numpy as np\n",
        "from numpy import asarray\n",
        "from sklearn.preprocessing import StandardScaler"
      ]
    },
    {
      "cell_type": "markdown",
      "metadata": {
        "id": "boN4rE-3yRuz"
      },
      "source": [
        "## **READING THE DATA**"
      ]
    },
    {
      "cell_type": "code",
      "execution_count": 10,
      "metadata": {},
      "outputs": [],
      "source": [
        "# Load preprocessed data \"ts_drive\"  \n",
        "test_drive_df= pd.read_csv('/home/ahmed/queens_project/final_project/ts_drive.csv' ) "
      ]
    },
    {
      "cell_type": "code",
      "execution_count": 11,
      "metadata": {
        "colab": {
          "base_uri": "https://localhost:8080/"
        },
        "id": "ZkY8wI8g4xS7",
        "outputId": "4fcc95f0-5fa2-4c62-bdb2-d1f6a15f1a02"
      },
      "outputs": [
        {
          "data": {
            "text/html": [
              "<div>\n",
              "<style scoped>\n",
              "    .dataframe tbody tr th:only-of-type {\n",
              "        vertical-align: middle;\n",
              "    }\n",
              "\n",
              "    .dataframe tbody tr th {\n",
              "        vertical-align: top;\n",
              "    }\n",
              "\n",
              "    .dataframe thead th {\n",
              "        text-align: right;\n",
              "    }\n",
              "</style>\n",
              "<table border=\"1\" class=\"dataframe\">\n",
              "  <thead>\n",
              "    <tr style=\"text-align: right;\">\n",
              "      <th></th>\n",
              "      <th>Rec_Lat</th>\n",
              "      <th>Rec_Long</th>\n",
              "      <th>RSRP</th>\n",
              "      <th>serving_Lat</th>\n",
              "      <th>serving_Long</th>\n",
              "      <th>distance</th>\n",
              "      <th>Bearing_angle</th>\n",
              "      <th>PL</th>\n",
              "    </tr>\n",
              "  </thead>\n",
              "  <tbody>\n",
              "    <tr>\n",
              "      <th>0</th>\n",
              "      <td>30.01471</td>\n",
              "      <td>31.45804</td>\n",
              "      <td>-66.5625</td>\n",
              "      <td>30.010772</td>\n",
              "      <td>31.456667</td>\n",
              "      <td>0.456179</td>\n",
              "      <td>-112.230030</td>\n",
              "      <td>121.949087</td>\n",
              "    </tr>\n",
              "    <tr>\n",
              "      <th>1</th>\n",
              "      <td>30.01472</td>\n",
              "      <td>31.45804</td>\n",
              "      <td>-66.5625</td>\n",
              "      <td>30.010772</td>\n",
              "      <td>31.456667</td>\n",
              "      <td>0.457239</td>\n",
              "      <td>-112.179183</td>\n",
              "      <td>121.983458</td>\n",
              "    </tr>\n",
              "    <tr>\n",
              "      <th>2</th>\n",
              "      <td>30.01472</td>\n",
              "      <td>31.45805</td>\n",
              "      <td>-66.5625</td>\n",
              "      <td>30.010772</td>\n",
              "      <td>31.456667</td>\n",
              "      <td>0.457520</td>\n",
              "      <td>-112.324916</td>\n",
              "      <td>121.992532</td>\n",
              "    </tr>\n",
              "    <tr>\n",
              "      <th>3</th>\n",
              "      <td>30.01472</td>\n",
              "      <td>31.45806</td>\n",
              "      <td>-66.8125</td>\n",
              "      <td>30.010772</td>\n",
              "      <td>31.456667</td>\n",
              "      <td>0.457802</td>\n",
              "      <td>-112.470345</td>\n",
              "      <td>122.001660</td>\n",
              "    </tr>\n",
              "    <tr>\n",
              "      <th>4</th>\n",
              "      <td>30.01472</td>\n",
              "      <td>31.45807</td>\n",
              "      <td>-67.3125</td>\n",
              "      <td>30.010772</td>\n",
              "      <td>31.456667</td>\n",
              "      <td>0.458086</td>\n",
              "      <td>-112.615469</td>\n",
              "      <td>122.010843</td>\n",
              "    </tr>\n",
              "    <tr>\n",
              "      <th>...</th>\n",
              "      <td>...</td>\n",
              "      <td>...</td>\n",
              "      <td>...</td>\n",
              "      <td>...</td>\n",
              "      <td>...</td>\n",
              "      <td>...</td>\n",
              "      <td>...</td>\n",
              "      <td>...</td>\n",
              "    </tr>\n",
              "    <tr>\n",
              "      <th>173803</th>\n",
              "      <td>30.00205</td>\n",
              "      <td>31.46490</td>\n",
              "      <td>-76.8750</td>\n",
              "      <td>30.002019</td>\n",
              "      <td>31.461689</td>\n",
              "      <td>0.357060</td>\n",
              "      <td>-179.528178</td>\n",
              "      <td>118.324080</td>\n",
              "    </tr>\n",
              "    <tr>\n",
              "      <th>173804</th>\n",
              "      <td>30.00205</td>\n",
              "      <td>31.46491</td>\n",
              "      <td>-76.8750</td>\n",
              "      <td>30.002019</td>\n",
              "      <td>31.461689</td>\n",
              "      <td>0.358171</td>\n",
              "      <td>-179.529643</td>\n",
              "      <td>118.370088</td>\n",
              "    </tr>\n",
              "    <tr>\n",
              "      <th>173805</th>\n",
              "      <td>30.00205</td>\n",
              "      <td>31.46492</td>\n",
              "      <td>-76.6875</td>\n",
              "      <td>30.002019</td>\n",
              "      <td>31.461689</td>\n",
              "      <td>0.359283</td>\n",
              "      <td>-179.531099</td>\n",
              "      <td>118.415953</td>\n",
              "    </tr>\n",
              "    <tr>\n",
              "      <th>173806</th>\n",
              "      <td>30.00205</td>\n",
              "      <td>31.46493</td>\n",
              "      <td>-79.3750</td>\n",
              "      <td>30.002019</td>\n",
              "      <td>31.461689</td>\n",
              "      <td>0.360395</td>\n",
              "      <td>-179.532546</td>\n",
              "      <td>118.461676</td>\n",
              "    </tr>\n",
              "    <tr>\n",
              "      <th>173807</th>\n",
              "      <td>30.00205</td>\n",
              "      <td>31.46494</td>\n",
              "      <td>-77.4375</td>\n",
              "      <td>30.002019</td>\n",
              "      <td>31.461689</td>\n",
              "      <td>0.361507</td>\n",
              "      <td>-179.533983</td>\n",
              "      <td>118.507259</td>\n",
              "    </tr>\n",
              "  </tbody>\n",
              "</table>\n",
              "<p>173808 rows × 8 columns</p>\n",
              "</div>"
            ],
            "text/plain": [
              "         Rec_Lat  Rec_Long     RSRP  serving_Lat  serving_Long  distance  \\\n",
              "0       30.01471  31.45804 -66.5625    30.010772     31.456667  0.456179   \n",
              "1       30.01472  31.45804 -66.5625    30.010772     31.456667  0.457239   \n",
              "2       30.01472  31.45805 -66.5625    30.010772     31.456667  0.457520   \n",
              "3       30.01472  31.45806 -66.8125    30.010772     31.456667  0.457802   \n",
              "4       30.01472  31.45807 -67.3125    30.010772     31.456667  0.458086   \n",
              "...          ...       ...      ...          ...           ...       ...   \n",
              "173803  30.00205  31.46490 -76.8750    30.002019     31.461689  0.357060   \n",
              "173804  30.00205  31.46491 -76.8750    30.002019     31.461689  0.358171   \n",
              "173805  30.00205  31.46492 -76.6875    30.002019     31.461689  0.359283   \n",
              "173806  30.00205  31.46493 -79.3750    30.002019     31.461689  0.360395   \n",
              "173807  30.00205  31.46494 -77.4375    30.002019     31.461689  0.361507   \n",
              "\n",
              "        Bearing_angle          PL  \n",
              "0         -112.230030  121.949087  \n",
              "1         -112.179183  121.983458  \n",
              "2         -112.324916  121.992532  \n",
              "3         -112.470345  122.001660  \n",
              "4         -112.615469  122.010843  \n",
              "...               ...         ...  \n",
              "173803    -179.528178  118.324080  \n",
              "173804    -179.529643  118.370088  \n",
              "173805    -179.531099  118.415953  \n",
              "173806    -179.532546  118.461676  \n",
              "173807    -179.533983  118.507259  \n",
              "\n",
              "[173808 rows x 8 columns]"
            ]
          },
          "execution_count": 11,
          "metadata": {},
          "output_type": "execute_result"
        }
      ],
      "source": [
        "test_drive_df"
      ]
    },
    {
      "cell_type": "code",
      "execution_count": 12,
      "metadata": {
        "colab": {
          "base_uri": "https://localhost:8080/",
          "height": 331
        },
        "id": "9nMhDWqOMpfT",
        "outputId": "65991ac1-d3c4-4a30-a29d-524cda08c271"
      },
      "outputs": [
        {
          "data": {
            "image/png": "[encoded data removed]",
            "text/plain": [
              "<Figure size 640x480 with 2 Axes>"
            ]
          },
          "metadata": {},
          "output_type": "display_data"
        }
      ],
      "source": [
        "# correlation plot\n",
        "corr = test_drive_df.corr()\n",
        "sns.heatmap(corr, cmap = 'Wistia', annot= True);"
      ]
    },
    {
      "cell_type": "code",
      "execution_count": 13,
      "metadata": {
        "colab": {
          "base_uri": "https://localhost:8080/"
        },
        "id": "UyhiyJHUB-Cp",
        "outputId": "b8b0b6f6-19e1-497e-982e-2c78ce246f40"
      },
      "outputs": [
        {
          "data": {
            "text/plain": [
              "Rec_Lat          0\n",
              "Rec_Long         0\n",
              "RSRP             0\n",
              "serving_Lat      0\n",
              "serving_Long     0\n",
              "distance         0\n",
              "Bearing_angle    0\n",
              "PL               0\n",
              "dtype: int64"
            ]
          },
          "execution_count": 13,
          "metadata": {},
          "output_type": "execute_result"
        }
      ],
      "source": [
        "# Check null values \n",
        "test_drive_df.isnull().sum()"
      ]
    },
    {
      "cell_type": "markdown",
      "metadata": {},
      "source": [
        "## **Split Dataset**"
      ]
    },
    {
      "cell_type": "code",
      "execution_count": 14,
      "metadata": {
        "id": "zqil5Ms7An-3"
      },
      "outputs": [],
      "source": [
        "# Determine  data to x train and y train \n",
        "y= test_drive_df['RSRP']\n",
        "x=test_drive_df.drop(columns=\"RSRP\")"
      ]
    },
    {
      "cell_type": "code",
      "execution_count": 15,
      "metadata": {},
      "outputs": [],
      "source": [
        "# # define standard scaler\n",
        "# scaler = StandardScaler()\n",
        "# # transform data\n",
        "# scaled = scaler.fit_transform(x)"
      ]
    },
    {
      "cell_type": "code",
      "execution_count": 16,
      "metadata": {
        "id": "j30qlDiVQgqc"
      },
      "outputs": [],
      "source": [
        "# Split data to train_X, val_X, train_y, val_y\n",
        "from sklearn.model_selection import train_test_split\n",
        "train_X, val_X, train_y, val_y = train_test_split(x, y, test_size = 0.25, random_state = 10)"
      ]
    },
    {
      "cell_type": "code",
      "execution_count": 17,
      "metadata": {
        "colab": {
          "base_uri": "https://localhost:8080/",
          "height": 423
        },
        "id": "tppRXJRCSY89",
        "outputId": "7ce1524e-6d06-43ec-a40e-ac919cc839f0"
      },
      "outputs": [
        {
          "data": {
            "text/plain": [
              "((130356, 7), (43452, 7), (130356,), (43452,))"
            ]
          },
          "execution_count": 17,
          "metadata": {},
          "output_type": "execute_result"
        }
      ],
      "source": [
        "train_X.shape , val_X.shape , train_y.shape , val_y.shape  # type: ignoree"
      ]
    },
    {
      "cell_type": "markdown",
      "metadata": {
        "id": "tkqnYq8LAkMg"
      },
      "source": [
        "# **Numerical Model**"
      ]
    },
    {
      "cell_type": "code",
      "execution_count": 19,
      "metadata": {
        "id": "uaz1N4BaMwGc"
      },
      "outputs": [],
      "source": [
        "# Define the architecture of Numerical model \n",
        "y_size,x_size = test_drive_df.shape \n",
        "model = Sequential()\n",
        "model.add(Dense(x_size,activation='relu')) # x_size - 64 - 64 - 128 - 64 - 64 - x_size\n",
        "model.add(Dense(64,activation='relu'))\n",
        "model.add(Dense(64,activation='relu'))\n",
        "model.add(Dense(64,activation='relu'))\n",
        "model.add(Dense(128,activation='relu'))\n",
        "# model.add(Dense(128,activation='relu'))\n",
        "# model.add(Dense(64,activation='relu'))\n",
        "model.add(Dense(64,activation='relu'))\n",
        "model.add(Dense(64,activation='relu'))\n",
        "model.add(Dense(x_size,activation='relu'))\n",
        "model.add(Dense(1)) \n"
      ]
    },
    {
      "cell_type": "code",
      "execution_count": 20,
      "metadata": {
        "id": "OCBYK6D0PT77"
      },
      "outputs": [],
      "source": [
        "# Compile model \n",
        "model.compile(loss='mae', optimizer='adam', metrics=[tf.keras.metrics.RootMeanSquaredError()])"
      ]
    },
    {
      "cell_type": "code",
      "execution_count": 21,
      "metadata": {
        "colab": {
          "base_uri": "https://localhost:8080/"
        },
        "id": "EqiCXi-FQVNs",
        "outputId": "50997235-6e68-4f42-c68c-94bfbd2036a4"
      },
      "outputs": [
        {
          "name": "stdout",
          "output_type": "stream",
          "text": [
            "Epoch 1/250\n",
            "4074/4074 [==============================] - 17s 4ms/step - loss: 8.0495 - root_mean_squared_error: 10.9686 - val_loss: 7.0808 - val_root_mean_squared_error: 8.7390\n",
            "Epoch 2/250\n",
            "4074/4074 [==============================] - 17s 4ms/step - loss: 7.3001 - root_mean_squared_error: 9.0416 - val_loss: 7.1594 - val_root_mean_squared_error: 8.8546\n",
            "Epoch 3/250\n",
            "4074/4074 [==============================] - 17s 4ms/step - loss: 7.2186 - root_mean_squared_error: 8.9621 - val_loss: 7.6479 - val_root_mean_squared_error: 9.5605\n",
            "Epoch 4/250\n",
            "4074/4074 [==============================] - 17s 4ms/step - loss: 7.1694 - root_mean_squared_error: 8.9180 - val_loss: 7.0626 - val_root_mean_squared_error: 8.7356\n",
            "Epoch 5/250\n",
            "4074/4074 [==============================] - 17s 4ms/step - loss: 7.0905 - root_mean_squared_error: 8.8388 - val_loss: 6.8795 - val_root_mean_squared_error: 8.5620\n",
            "Epoch 6/250\n",
            "4074/4074 [==============================] - 17s 4ms/step - loss: 7.0433 - root_mean_squared_error: 8.8090 - val_loss: 6.9274 - val_root_mean_squared_error: 8.6920\n",
            "Epoch 7/250\n",
            "4074/4074 [==============================] - 17s 4ms/step - loss: 6.9854 - root_mean_squared_error: 8.7556 - val_loss: 7.1256 - val_root_mean_squared_error: 8.8731\n",
            "Epoch 8/250\n",
            "4074/4074 [==============================] - 18s 4ms/step - loss: 6.9281 - root_mean_squared_error: 8.7086 - val_loss: 7.0208 - val_root_mean_squared_error: 8.8140\n",
            "Epoch 9/250\n",
            "4074/4074 [==============================] - 17s 4ms/step - loss: 6.8944 - root_mean_squared_error: 8.6827 - val_loss: 6.8663 - val_root_mean_squared_error: 8.7078\n",
            "Epoch 10/250\n",
            "4065/4074 [============================>.] - ETA: 0s - loss: 6.8807 - root_mean_squared_error: 8.6732"
          ]
        }
      ],
      "source": [
        "# train the model on the data and test it by validation_data \n",
        "history = model.fit(\n",
        "    x= train_X,\n",
        "    y= train_y,\n",
        "    batch_size=32,\n",
        "    epochs=250,\n",
        "    validation_data=(val_X, val_y))\n",
        "# I used 250 epochs (if you want you can change the number of epochs or you can edit the callback above)"
      ]
    },
    {
      "cell_type": "code",
      "execution_count": 1,
      "metadata": {},
      "outputs": [],
      "source": [
        "# this to plot the loss \n",
        "# from turtle import color\n",
        "\n",
        "# plt.plot(history.epoch, history.history[\"loss\"], 'g', label='Training loss')\n",
        "\n",
        "# plt.plot(history.epoch, history.history[\"val_loss\"], 'g', label='Test loss' , color=\"red\")\n",
        "\n",
        "# plt.plot(history.epoch, history.history[\"val_root_mean_squared_error\"], 'g', label='Test metrics' , color=\"blue\")\n",
        "\n",
        "# plt.title('Training And Test loss')\n",
        "\n",
        "# plt.xlabel('Epochs')\n",
        "\n",
        "# plt.ylabel('Loss')\n",
        "\n",
        "# plt.legend()\n",
        "\n",
        "# plt.show()"
      ]
    },
    {
      "cell_type": "code",
      "execution_count": 44,
      "metadata": {
        "id": "jaG3QjPWQXaM"
      },
      "outputs": [],
      "source": [
        "# Save the model \n",
        "model.save(\"Numerical_Model.h5\")"
      ]
    }
  ],
  "metadata": {
    "colab": {
      "collapsed_sections": [
        "XUW3b5LzyAfS",
        "boN4rE-3yRuz",
        "9gwB8zcVkzeB",
        "wIx1fmZ5mEWm",
        "s7ZRClKuKGAn",
        "6u4sxkTH7FJY",
        "lAqB3znqbnrj",
        "MzHR6JBp88YA",
        "-o8QC6kXAORZ",
        "OjBm4atL-i4i",
        "dlcliXVXAk9v"
      ],
      "machine_shape": "hm",
      "provenance": []
    },
    "gpuClass": "standard",
    "kernelspec": {
      "display_name": "Python 3.8.13 ('queens_env')",
      "language": "python",
      "name": "python3"
    },
    "language_info": {
      "codemirror_mode": {
        "name": "ipython",
        "version": 3
      },
      "file_extension": ".py",
      "mimetype": "text/x-python",
      "name": "python",
      "nbconvert_exporter": "python",
      "pygments_lexer": "ipython3",
      "version": "3.8.13"
    },
    "vscode": {
      "interpreter": {
        "hash": "ec3470e261aaddc70b6811a38cd7e78303ef4d92564036abf92c3ba4e71aaee2"
      }
    }
  },
  "nbformat": 4,
  "nbformat_minor": 0
}
